{
 "cells": [
  {
   "cell_type": "code",
   "execution_count": 1,
   "id": "0979d7e9-a230-436a-8061-16a53b8fa9a5",
   "metadata": {},
   "outputs": [
    {
     "name": "stderr",
     "output_type": "stream",
     "text": [
      "/tmp/ipykernel_1199996/4080736814.py:1: DeprecationWarning: \n",
      "Pyarrow will become a required dependency of pandas in the next major release of pandas (pandas 3.0),\n",
      "(to allow more performant data types, such as the Arrow string type, and better interoperability with other libraries)\n",
      "but was not found to be installed on your system.\n",
      "If this would cause problems for you,\n",
      "please provide us feedback at https://github.com/pandas-dev/pandas/issues/54466\n",
      "        \n",
      "  import pandas as pd\n"
     ]
    }
   ],
   "source": [
    "import pandas as pd"
   ]
  },
  {
   "cell_type": "code",
   "execution_count": 2,
   "id": "d2a1bb3a-9527-4c73-8ac4-dd71e4965372",
   "metadata": {},
   "outputs": [],
   "source": [
    "from langchain_core.output_parsers import StrOutputParser"
   ]
  },
  {
   "cell_type": "code",
   "execution_count": null,
   "id": "730f6c06-5ecd-49e0-810b-bbca90671159",
   "metadata": {},
   "outputs": [],
   "source": [
    "import arrow\n",
    "from langchain_core.output_parsers import StrOutputParser\n",
    "from langchain_core.prompts import ChatPromptTemplate\n",
    "#from langchain.chains.summarize import load_summarize_chain\n",
    "from langchain_openai import ChatOpenAI\n",
    "from dotenv import load_dotenv\n",
    "import os\n",
    "import re\n",
    "import pandas as pd\n",
    "import sys\n",
    "sys.path.append(\"..\")\n",
    "from utils.data_utils import read_data\n",
    "from utils.log_setting import logger\n",
    "from prompt.base import prompt_dict\n",
    "\n",
    "load_dotenv()\n",
    "output_parser = StrOutputParser()\n",
    "summarization_prompt_tmpl = (\n",
    "    \"請遵守以下的【規範】，根據【篩選資料】、【GRI 準則】及【偏好語氣】，總結為一段可以當作 ESG 報告草稿的摘要。\\n\\n\"\n",
    "    \"【規範】\\n\"\n",
    "    \"- 摘要必須不少於 500 字。\\n\"\n",
    "    \"- 請依照 GRI 準則的項目順序產生摘要。\\n\"\n",
    "    \"\\n\"\n",
    "    \"####\\n\"\n",
    "    \"開始!\\n\"\n",
    "    \"【篩選資料】\\n\"\n",
    "    \"{filtered_data}\\n\"\n",
    "    \"【GRI 準則】\\n\"\n",
    "    \"{gri_standard}\"\n",
    "    \"【偏好語氣】\\n\"\n",
    "    \"{tone}\\n\"\n",
    "    \"包含公司名稱\\\"\n",
    "    \"包含報告年份\\\"\n",
    "    \"包含物料類: 301-1 所用物料的重量或體積、301-2 使用回收再利用的物料\\\"\n",
    "    \"包含物料類: 301-3 回收的產品及其包材\\\"\n",
    "    \"包含能源類: 302-1 組織內部的能源消耗量、302-2 組織外部的能源消耗量\\\"\n",
    "    \"包含能源類: 302-3 能源密集度、302-4 減少能源消耗、302-5 降低產品和服務的能源需求\\\"\n",
    "    \"包含水和廢水類: 303-1 共享水資源之相互影響、303-2 與排水相關衝擊的管理\\\"\n",
    "    \"包含水和廢水類: 303-3 取水量、303-4 排水量、303-5 耗水量\\\"\n",
    "    \"包含生物多樣性類: 304-1 組織所擁有、租賃、管理的營運據點或其鄰近地區位於環境保護區或其他高生物多樣性價值的地區\\\"\n",
    "    \"包含生物多樣性類: 304-2 活動、產品及服務，對生物多樣性方面的顯著衝擊\\\"\n",
    "    \"包含生物多樣性類: 304-3 受保護或復育的棲息地、304-4 受營運影響的棲息地中，已被列入IUCN紅色名錄及國家保護名錄的物種\\\"\n",
    "    \"包含排放類: 305-1 直接（範疇一）溫室氣體排放、305-2 能源間接（範疇二）溫室氣體排放、305-3 其他間接（範疇三）溫室氣體排放\\\"\n",
    "    \"包含排放類: 305-4 溫室氣體排放密集度、305-5 溫室氣體排放減量、305-6 破壞臭氧層物質的排放、\\\"\n",
    "    \"包含排放類: 305-7 氮氧化物（NOx）、硫氧化物（SOx），及其他重大的氣體排放\\\"\n",
    "    \"包含廢棄物類: 306-1 廢棄物產出情形及廢棄物相關顯著衝擊、306-2 廢棄物相關顯著衝擊管理、306-3 廢棄物產出種類及量\\\"\n",
    "    \"包含廢棄物類: 306-4 廢棄物回收方式、種類與量（分廠內、廠外）、306-5 廢棄物處置方式、種類與量（分廠內、廠外）\\\"\n",
    "    \"包含合規類: 307-1 違反\\\"\n",
    "    \"包含環保法規: 308-1 採用環境標準篩選新供應商、308-2 供應鏈對環境的負面影響\\\"\n",
    "    \"請一步一步的摘要出公司的ESG報告，以確保報告完整正確。\\\"\n",
    "    \"偏好語氣: {friendly + professional, authoritative + inofrmative, urgent + persuasive, straigthforward + conversational, professional + thrusworthy, authoritative + expert, creative + professional}\\\"\n",
    "    \"input: {”reference_docs”: [], “query”: “<產出摘要的 prompt 要加入語調的變數>“,“tone“:“偏好語氣“\\}\"\n",
    ")\n",
    "\n",
    "\n",
    "def get_answer_normal(query, filtered_data, summarization_prompt_tmpl):\n",
    "    if filtered_data is None:\n",
    "        filtered_data = get_date_range_from_query(query)\n",
    "\n",
    "    prompt = ChatPromptTemplate.from_template(summarization_prompt_tmpl)\n",
    "    model = ChatOpenAI(model=os.getenv(\"OPENAI_MODEL_NAME\"), temperature=0.75)\n",
    "    chain = prompt | model | output_parser\n",
    "    # ans = chain.invoke({\"query\": query, \"filtered_data\": filtered_data})\n",
    "\n",
    "    generator = chain.stream({\"query\": query, \"filtered_data\": filtered_data})\n",
    "#generator = chain.stream({\"query\": query, \"filtered_data\": filtered_data, \"tone\": tone}})\n",
    "    return generator\n",
    "\n",
    "\n",
    "if __name__ == \"__main__\":\n",
    "    ans = get_answer_normal(\"台泥碳排量\")\n",
    "    print(ans)\n"
   ]
  }
 ],
 "metadata": {
  "kernelspec": {
   "display_name": "Python 3 (ipykernel)",
   "language": "python",
   "name": "python3"
  },
  "language_info": {
   "codemirror_mode": {
    "name": "ipython",
    "version": 3
   },
   "file_extension": ".py",
   "mimetype": "text/x-python",
   "name": "python",
   "nbconvert_exporter": "python",
   "pygments_lexer": "ipython3",
   "version": "3.11.2"
  }
 },
 "nbformat": 4,
 "nbformat_minor": 5
}
