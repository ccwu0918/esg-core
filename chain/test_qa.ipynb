{
 "cells": [
  {
   "cell_type": "code",
   "execution_count": 19,
   "id": "2f3cb2fd-5e0f-4af8-a16c-eca0c49140b0",
   "metadata": {},
   "outputs": [],
   "source": [
    "from qdrant_client.http import exceptions, models\n",
    "from dotenv import load_dotenv\n",
    "from langchain_core.prompts import ChatPromptTemplate, PromptTemplate\n",
    "from langchain_core.runnables import RunnableLambda\n",
    "from langchain_openai.llms import OpenAI\n",
    "from langchain_openai import ChatOpenAI\n",
    "from langchain.schema import StrOutputParser\n",
    "from qdrant_client import QdrantClient\n",
    "from langchain.schema.runnable import RunnableParallel, RunnablePassthrough\n",
    "from langchain_community.embeddings import HuggingFaceEmbeddings\n",
    "from langchain_community.vectorstores import Qdrant\n",
    "from operator import itemgetter\n",
    "from langchain_openai import OpenAIEmbeddings\n",
    "from typing import Optional\n",
    "from langchain_core.output_parsers import JsonOutputParser\n",
    "from langchain_core.pydantic_v1 import BaseModel, Field\n",
    "from qdrant_client.http import models as qdrant_models\n",
    "from langchain_core.runnables import RunnableBranch"
   ]
  },
  {
   "cell_type": "code",
   "execution_count": 20,
   "id": "f7df56a2-5544-4307-be61-b08e062a4743",
   "metadata": {},
   "outputs": [
    {
     "data": {
      "text/plain": [
       "True"
      ]
     },
     "execution_count": 20,
     "metadata": {},
     "output_type": "execute_result"
    }
   ],
   "source": [
    "load_dotenv()"
   ]
  },
  {
   "cell_type": "code",
   "execution_count": 21,
   "id": "21e521f3-6661-4b73-a09f-7972ff7a1c73",
   "metadata": {},
   "outputs": [],
   "source": [
    "prompt = \"\"\"\n",
    "# 角色\n",
    "你是一名ESG（環境、社會和治理）專家，可以提供具體公司的ESG行為和成績的相關資訊。\n",
    "\n",
    "## 技能\n",
    "### 技能1：提供環境資訊\n",
    "- 根據使用者查詢的公司，從您的知識庫中搜索並提供該公司的環境績效和政策。\n",
    "\n",
    "### 技能2：提供社會責任資訊\n",
    "- 根據使用者查詢的公司，搜索並回答該公司的社會責任項目。\n",
    "\n",
    "### 技能3：提供治理結構資訊\n",
    "- 根據使用者查詢的公司，搜索並提供該公司的治理結構和政策。\n",
    "\n",
    "## 使用提示：\n",
    "- 必須問關於公司ESG行為的問題。\n",
    "- 必須使用使用者所用的語言來回答問題。\n",
    "- 必須使用以下問題格式：\n",
    "  1. 「請問[公司名稱]在環境方面有哪些主要措施？」\n",
    "  2. 「[公司名稱]的社會責任項目包括什麼？」\n",
    "  3. 「關於[公司名稱]的治理結構，您能提供哪些資訊？」\n",
    "- 好好使用您的知識庫，根據使用者的問題提供信息。\n",
    "- 目前一次能詢問的公司資料，不能超過時間\n",
    "- 使用繁體字回覆使用者的問題\n",
    "\n",
    "## 限制：針對以下內容，無法回覆，但要把不能回覆的原因說明清楚\n",
    "- 限制一：使用者詢問超過10家公司的ESG資訊\n",
    "- 限制二：使用者詢問內容不符合上述技能\n",
    "- 限制三：使用者詢問需要查詢大量的公司資訊，有可能需要查詢超過十家公司資訊\n",
    "\n",
    "Response the question based on the following reference, if trigger constraint, response the full reason why it is not supported.\n",
    "\n",
    "{reference}\n",
    "\n",
    "{query}\n",
    "\"\"\""
   ]
  },
  {
   "cell_type": "code",
   "execution_count": 45,
   "id": "52086c2c-7646-4147-9e37-f94d6d9fd9cc",
   "metadata": {},
   "outputs": [],
   "source": [
    "def rag_process(\n",
    "    query: str,\n",
    "    year: Optional[str] = None,\n",
    "    co_id: Optional[str] = None,\n",
    "    show_retrieve_docs = False\n",
    "):\n",
    "\n",
    "    \n",
    "    # prompt: response prompt\n",
    "    response_prompt = ChatPromptTemplate.from_template(template=prompt)\n",
    "\n",
    "\n",
    "    ## LLM\n",
    "    model = ChatOpenAI(model=\"gpt-3.5-turbo\")\n",
    "    client = QdrantClient(url=\"34.80.177.36:6333\")\n",
    "    collection_name = \"greenhousegas\"\n",
    "    embeddings = OpenAIEmbeddings(model=\"text-embedding-3-small\")\n",
    "    qdrant = Qdrant(\n",
    "        client=client,\n",
    "        collection_name=collection_name,\n",
    "        embeddings=embeddings,\n",
    "        content_payload_key=\"content\",\n",
    "    )\n",
    "    document_filter = {\"year\": year, \"co_id\": co_id}\n",
    "    document_filter = {k: v for k, v in document_filter.items() if v is not None}\n",
    "    \n",
    "    # parser\n",
    "    str_parser = StrOutputParser()\n",
    "    # 👎 cannot work\n",
    "    \"\"\"\n",
    "    retriever = qdrant.as_retriever(\n",
    "        search_kwargs={\"filter\":{\"co_id\":\"2330\"}}\n",
    "    )\n",
    "    retriever = qdrant.as_retriever(search_type=\"similarity_score_threshold\", search_kwargs={'filter': document_filter, 'score_threshold': 0.1})\n",
    "    retriever = qdrant.as_retriever(search_type=\"mmr\", search_kwargs={'filter': document_filter, 'k': 5})\n",
    "    \"\"\"\n",
    "\n",
    "    field_conditions = [\n",
    "        qdrant_models.FieldCondition(\n",
    "            key=key,\n",
    "            match=qdrant_models.MatchValue(value=value)\n",
    "        )\n",
    "        for key, value in document_filter.items()\n",
    "    ]\n",
    "\n",
    "    retriever = qdrant.as_retriever(\n",
    "                search_kwargs=dict(\n",
    "                    filter=qdrant_models.Filter(\n",
    "                        must=field_conditions\n",
    "                    )\n",
    "                )\n",
    "            )\n",
    "    if show_retrieve_docs:\n",
    "        retriever_answer = retriever.get_relevant_documents(query)\n",
    "        print(retriever_answer, len(retriever_answer))\n",
    "    chain = {\"reference\": retriever, \"query\": RunnablePassthrough()} | response_prompt | model | str_parser\n",
    "    return chain.invoke(query)"
   ]
  },
  {
   "cell_type": "code",
   "execution_count": null,
   "id": "95a368bc-b7d3-461b-a988-6f31e1d86493",
   "metadata": {},
   "outputs": [],
   "source": [
    "rag_process(query=\"中鋼企業(直、間接)溫室氣體排放量直接排放量(category1)多少\") #會retrieve不到好的資料"
   ]
  },
  {
   "cell_type": "code",
   "execution_count": null,
   "id": "9c5a7278-b4f5-42ce-b133-de190a473711",
   "metadata": {},
   "outputs": [],
   "source": [
    "rag_process(query=\"台積電溫室氣體排放量直接排放量(category1)多少\", year=\"110\", co_id=\"2330\") #不合範疇\n",
    "\n"
   ]
  },
  {
   "cell_type": "code",
   "execution_count": null,
   "id": "3856b53b-55bf-4a9b-a2b2-d2c58994b4f1",
   "metadata": {},
   "outputs": [],
   "source": [
    "rag_process(query=\"台積電的環境政策\", year=\"110\", co_id=\"2330\") # 可以搜到台積電資料"
   ]
  },
  {
   "cell_type": "code",
   "execution_count": null,
   "id": "794e17ce-f829-4590-8325-8098ad25ff7e",
   "metadata": {},
   "outputs": [],
   "source": []
  }
 ],
 "metadata": {
  "kernelspec": {
   "display_name": "Python 3 (ipykernel)",
   "language": "python",
   "name": "python3"
  },
  "language_info": {
   "codemirror_mode": {
    "name": "ipython",
    "version": 3
   },
   "file_extension": ".py",
   "mimetype": "text/x-python",
   "name": "python",
   "nbconvert_exporter": "python",
   "pygments_lexer": "ipython3",
   "version": "3.11.2"
  }
 },
 "nbformat": 4,
 "nbformat_minor": 5
}
